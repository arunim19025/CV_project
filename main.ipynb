{
 "cells": [
  {
   "cell_type": "code",
   "execution_count": null,
   "id": "9ce3e93f",
   "metadata": {},
   "outputs": [],
   "source": []
  },
  {
   "cell_type": "code",
   "execution_count": null,
   "id": "5a5e2be8",
   "metadata": {},
   "outputs": [],
   "source": []
  },
  {
   "cell_type": "code",
   "execution_count": null,
   "id": "dfc4f657",
   "metadata": {},
   "outputs": [],
   "source": []
  },
  {
   "cell_type": "code",
   "execution_count": null,
   "id": "698ea84d",
   "metadata": {},
   "outputs": [],
   "source": []
  },
  {
   "cell_type": "markdown",
   "id": "467bd949",
   "metadata": {},
   "source": [
    "## Testing area"
   ]
  },
  {
   "cell_type": "code",
   "execution_count": null,
   "id": "4528d513",
   "metadata": {},
   "outputs": [],
   "source": []
  },
  {
   "cell_type": "code",
   "execution_count": 8,
   "id": "12b12a4a",
   "metadata": {},
   "outputs": [],
   "source": [
    "import os"
   ]
  },
  {
   "cell_type": "code",
   "execution_count": 26,
   "id": "44074854",
   "metadata": {},
   "outputs": [
    {
     "name": "stdout",
     "output_type": "stream",
     "text": [
      "base1\n",
      "base2\n",
      "base3\n",
      "base4\n",
      "base1\n",
      "base2\n",
      "base3\n",
      "base4\n",
      "extra\n",
      "base1\n",
      "base2\n",
      "base3\n",
      "base4\n",
      "extra\n"
     ]
    }
   ],
   "source": [
    "surfaces = dict()\n",
    "\n",
    "for surface in os.listdir('dataset'):\n",
    "    surfaces[surface] = dict()\n",
    "    for itype in os.listdir('dataset/' + surface):\n",
    "        if(itype == 'base'):\n",
    "            for filename in os.listdir('dataset/' + surface + '/' + itype):\n",
    "                name = filename.split('.')[0]\n",
    "                print(name)\n",
    "                surfaces[surface][name] = 'empty rn'"
   ]
  },
  {
   "cell_type": "code",
   "execution_count": 27,
   "id": "6c4300d7",
   "metadata": {},
   "outputs": [
    {
     "data": {
      "text/plain": [
       "'empty rn'"
      ]
     },
     "execution_count": 27,
     "metadata": {},
     "output_type": "execute_result"
    }
   ],
   "source": [
    "surfaces['walls']['extra']"
   ]
  },
  {
   "cell_type": "code",
   "execution_count": null,
   "id": "8fbb2519",
   "metadata": {},
   "outputs": [],
   "source": []
  },
  {
   "cell_type": "code",
   "execution_count": null,
   "id": "8a91c8e0",
   "metadata": {},
   "outputs": [],
   "source": []
  },
  {
   "cell_type": "code",
   "execution_count": 28,
   "id": "9714f0f3",
   "metadata": {},
   "outputs": [],
   "source": [
    "wallcords =[\n",
    "    [\n",
    "        [[0.0, 0.0], [1.0, 0.0], 2, [90, 5], [460, 5]],\n",
    "        [[0.0, 0.5], [1.0, 0.5], 3, [90, 127], [460, 125]],\n",
    "        [[0.0, 1.0], [1.0, 1.0], 4, [90, 253], [460, 251]],\n",
    "    ],\n",
    "    [\n",
    "        [[0.0, 0.0], [1.0, 0.0], 2, [90, 5], [460, 5]],\n",
    "        [[0.0, 0.5], [1.0, 0.5], 3, [90, 127], [460, 125]],\n",
    "        [[0.0, 1.0], [1.0, 1.0], 4, [90, 253], [460, 251]],\n",
    "    ],\n",
    "    [\n",
    "        [[0.0, 0.0], [1.0, 0.0], 2, [90, 5], [460, 5]],\n",
    "        [[0.0, 0.5], [1.0, 0.5], 3, [90, 127], [460, 125]],\n",
    "        [[0.0, 1.0], [1.0, 1.0], 4, [90, 253], [460, 251]],\n",
    "    ]\n",
    "]"
   ]
  },
  {
   "cell_type": "code",
   "execution_count": 34,
   "id": "54fa5b18",
   "metadata": {},
   "outputs": [
    {
     "data": {
      "text/plain": [
       "[[[0.0, 0.0], [1.0, 0.0], 2, [90, 5], [460, 5]],\n",
       " [[0.0, 0.5], [1.0, 0.5], 3, [90, 127], [460, 125]],\n",
       " [[0.0, 1.0], [1.0, 1.0], 4, [90, 253], [460, 251]]]"
      ]
     },
     "execution_count": 34,
     "metadata": {},
     "output_type": "execute_result"
    }
   ],
   "source": [
    "wallcords[2]"
   ]
  },
  {
   "cell_type": "code",
   "execution_count": 4,
   "id": "532cab2e",
   "metadata": {},
   "outputs": [],
   "source": [
    "cushioncords =[\n",
    "    [\n",
    "        [[0.0, 0.0], [1.0, 0.0], 2, [72, 130], [401, 96]],\n",
    "        [[0.0, 0.25], [1.0, 0.25], 3, [96, 208], [400, 183]],\n",
    "        [[0.0, 0.5], [1.0, 0.5], 3, [109, 292], [406, 250]],\n",
    "        [[0.0, 0.75], [1.0, 0.75], 3, [116, 360], [419, 322]],\n",
    "        [[0.0, 1.0], [1.0, 1.0], 4, [117, 445], [440, 400]],\n",
    "    ],\n",
    "    [\n",
    "        [[0.0, 0.0], [1.0, 0.0], 2, [90, 5], [460, 5]],\n",
    "        [[0.0, 0.5], [1.0, 0.5], 3, [90, 127], [460, 125]],\n",
    "        [[0.0, 1.0], [1.0, 1.0], 4, [90, 253], [460, 251]],\n",
    "    ],\n",
    "    [\n",
    "        [[0.0, 0.0], [1.0, 0.0], 2, [90, 5], [460, 5]],\n",
    "        [[0.0, 0.5], [1.0, 0.5], 3, [90, 127], [460, 125]],\n",
    "        [[0.0, 1.0], [1.0, 1.0], 4, [90, 253], [460, 251]],\n",
    "    ]\n",
    "]"
   ]
  },
  {
   "cell_type": "code",
   "execution_count": 3,
   "id": "4d4be433",
   "metadata": {},
   "outputs": [],
   "source": [
    "curtaincords =[\n",
    "    [[0.0, 0.0], [1.0, 0.0], 4, [640, 40], [1020, 40]],\n",
    "    [[0.0, 0.2], [1.0, 0.2], 4, [635, 289], [1200,289]],\n",
    "    [[0.0, 0.4], [1.0, 0.4], 8, [628, 639], [1036,639]],\n",
    "    [[0.0, 1.0], [1.0, 1.0], 4, [637, 1420], [1073,1420]]\n",
    "]"
   ]
  },
  {
   "cell_type": "code",
   "execution_count": 6,
   "id": "d22d6056",
   "metadata": {},
   "outputs": [],
   "source": [
    "coords = dict()\n",
    "coords['wall'] = wallcords\n",
    "coords['cushion'] = cushioncords\n",
    "coords['curtain'] = curtaincords"
   ]
  },
  {
   "cell_type": "code",
   "execution_count": 7,
   "id": "82b9e09f",
   "metadata": {},
   "outputs": [
    {
     "data": {
      "text/plain": [
       "{'wall': [[[0.0, 0.0], [1.0, 0.0], 4, [640, 40], [1020, 40]],\n",
       "  [[0.0, 0.2], [1.0, 0.2], 4, [635, 289], [1200, 289]],\n",
       "  [[0.0, 0.4], [1.0, 0.4], 8, [628, 639], [1036, 639]],\n",
       "  [[0.0, 1.0], [1.0, 1.0], 4, [637, 1420], [1073, 1420]]],\n",
       " 'cushion': [[[0.0, 0.0], [1.0, 0.0], 4, [640, 40], [1020, 40]],\n",
       "  [[0.0, 0.2], [1.0, 0.2], 4, [635, 289], [1200, 289]],\n",
       "  [[0.0, 0.4], [1.0, 0.4], 8, [628, 639], [1036, 639]],\n",
       "  [[0.0, 1.0], [1.0, 1.0], 4, [637, 1420], [1073, 1420]]],\n",
       " 'curtain': [[[0.0, 0.0], [1.0, 0.0], 4, [640, 40], [1020, 40]],\n",
       "  [[0.0, 0.2], [1.0, 0.2], 4, [635, 289], [1200, 289]],\n",
       "  [[0.0, 0.4], [1.0, 0.4], 8, [628, 639], [1036, 639]],\n",
       "  [[0.0, 1.0], [1.0, 1.0], 4, [637, 1420], [1073, 1420]]]}"
      ]
     },
     "execution_count": 7,
     "metadata": {},
     "output_type": "execute_result"
    }
   ],
   "source": [
    "coords"
   ]
  },
  {
   "cell_type": "code",
   "execution_count": null,
   "id": "38b19a62",
   "metadata": {},
   "outputs": [],
   "source": []
  },
  {
   "cell_type": "code",
   "execution_count": null,
   "id": "3645ea28",
   "metadata": {},
   "outputs": [],
   "source": []
  },
  {
   "cell_type": "code",
   "execution_count": null,
   "id": "d416fac7",
   "metadata": {},
   "outputs": [],
   "source": []
  }
 ],
 "metadata": {
  "kernelspec": {
   "display_name": "Python 3 (ipykernel)",
   "language": "python",
   "name": "python3"
  },
  "language_info": {
   "codemirror_mode": {
    "name": "ipython",
    "version": 3
   },
   "file_extension": ".py",
   "mimetype": "text/x-python",
   "name": "python",
   "nbconvert_exporter": "python",
   "pygments_lexer": "ipython3",
   "version": "3.10.4"
  }
 },
 "nbformat": 4,
 "nbformat_minor": 5
}
